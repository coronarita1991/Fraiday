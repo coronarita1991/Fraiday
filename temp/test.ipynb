{
 "cells": [
  {
   "cell_type": "code",
   "execution_count": null,
   "metadata": {},
   "outputs": [
    {
     "name": "stdout",
     "output_type": "stream",
     "text": [
      "Collecting langchain_upstage\n",
      "  Downloading langchain_upstage-0.1.7-py3-none-any.whl.metadata (3.3 kB)\n",
      "Collecting langchain-core<0.3,>=0.2.2 (from langchain_upstage)\n",
      "  Downloading langchain_core-0.2.30-py3-none-any.whl.metadata (6.2 kB)\n",
      "Collecting langchain-openai<0.2.0,>=0.1.3 (from langchain_upstage)\n",
      "  Downloading langchain_openai-0.1.21-py3-none-any.whl.metadata (2.6 kB)\n",
      "Collecting pypdf<5.0.0,>=4.2.0 (from langchain_upstage)\n",
      "  Using cached pypdf-4.3.1-py3-none-any.whl.metadata (7.4 kB)\n",
      "Requirement already satisfied: requests<3.0.0,>=2.31.0 in ./.venv/lib/python3.10/site-packages (from langchain_upstage) (2.32.3)\n",
      "Requirement already satisfied: PyYAML>=5.3 in ./.venv/lib/python3.10/site-packages (from langchain-core<0.3,>=0.2.2->langchain_upstage) (6.0.2)\n",
      "Requirement already satisfied: jsonpatch<2.0,>=1.33 in ./.venv/lib/python3.10/site-packages (from langchain-core<0.3,>=0.2.2->langchain_upstage) (1.33)\n",
      "Collecting langsmith<0.2.0,>=0.1.75 (from langchain-core<0.3,>=0.2.2->langchain_upstage)\n",
      "  Downloading langsmith-0.1.99-py3-none-any.whl.metadata (13 kB)\n",
      "Requirement already satisfied: packaging<25,>=23.2 in ./.venv/lib/python3.10/site-packages (from langchain-core<0.3,>=0.2.2->langchain_upstage) (23.2)\n",
      "Requirement already satisfied: pydantic<3,>=1 in ./.venv/lib/python3.10/site-packages (from langchain-core<0.3,>=0.2.2->langchain_upstage) (2.8.2)\n",
      "Requirement already satisfied: tenacity!=8.4.0,<9.0.0,>=8.1.0 in ./.venv/lib/python3.10/site-packages (from langchain-core<0.3,>=0.2.2->langchain_upstage) (8.5.0)\n",
      "Requirement already satisfied: typing-extensions>=4.7 in ./.venv/lib/python3.10/site-packages (from langchain-core<0.3,>=0.2.2->langchain_upstage) (4.12.2)\n",
      "Requirement already satisfied: openai<2.0.0,>=1.40.0 in ./.venv/lib/python3.10/site-packages (from langchain-openai<0.2.0,>=0.1.3->langchain_upstage) (1.40.6)\n",
      "Collecting tiktoken<1,>=0.7 (from langchain-openai<0.2.0,>=0.1.3->langchain_upstage)\n",
      "  Using cached tiktoken-0.7.0-cp310-cp310-macosx_11_0_arm64.whl.metadata (6.6 kB)\n",
      "Requirement already satisfied: charset-normalizer<4,>=2 in ./.venv/lib/python3.10/site-packages (from requests<3.0.0,>=2.31.0->langchain_upstage) (3.3.2)\n",
      "Requirement already satisfied: idna<4,>=2.5 in ./.venv/lib/python3.10/site-packages (from requests<3.0.0,>=2.31.0->langchain_upstage) (3.7)\n",
      "Requirement already satisfied: urllib3<3,>=1.21.1 in ./.venv/lib/python3.10/site-packages (from requests<3.0.0,>=2.31.0->langchain_upstage) (2.2.2)\n",
      "Requirement already satisfied: certifi>=2017.4.17 in ./.venv/lib/python3.10/site-packages (from requests<3.0.0,>=2.31.0->langchain_upstage) (2024.7.4)\n",
      "Requirement already satisfied: jsonpointer>=1.9 in ./.venv/lib/python3.10/site-packages (from jsonpatch<2.0,>=1.33->langchain-core<0.3,>=0.2.2->langchain_upstage) (3.0.0)\n",
      "Collecting orjson<4.0.0,>=3.9.14 (from langsmith<0.2.0,>=0.1.75->langchain-core<0.3,>=0.2.2->langchain_upstage)\n",
      "  Using cached orjson-3.10.7-cp310-cp310-macosx_10_15_x86_64.macosx_11_0_arm64.macosx_10_15_universal2.whl.metadata (50 kB)\n",
      "Requirement already satisfied: anyio<5,>=3.5.0 in ./.venv/lib/python3.10/site-packages (from openai<2.0.0,>=1.40.0->langchain-openai<0.2.0,>=0.1.3->langchain_upstage) (4.4.0)\n",
      "Requirement already satisfied: distro<2,>=1.7.0 in ./.venv/lib/python3.10/site-packages (from openai<2.0.0,>=1.40.0->langchain-openai<0.2.0,>=0.1.3->langchain_upstage) (1.9.0)\n",
      "Requirement already satisfied: httpx<1,>=0.23.0 in ./.venv/lib/python3.10/site-packages (from openai<2.0.0,>=1.40.0->langchain-openai<0.2.0,>=0.1.3->langchain_upstage) (0.27.0)\n",
      "Requirement already satisfied: jiter<1,>=0.4.0 in ./.venv/lib/python3.10/site-packages (from openai<2.0.0,>=1.40.0->langchain-openai<0.2.0,>=0.1.3->langchain_upstage) (0.5.0)\n",
      "Requirement already satisfied: sniffio in ./.venv/lib/python3.10/site-packages (from openai<2.0.0,>=1.40.0->langchain-openai<0.2.0,>=0.1.3->langchain_upstage) (1.3.1)\n",
      "Requirement already satisfied: tqdm>4 in ./.venv/lib/python3.10/site-packages (from openai<2.0.0,>=1.40.0->langchain-openai<0.2.0,>=0.1.3->langchain_upstage) (4.66.5)\n",
      "Requirement already satisfied: annotated-types>=0.4.0 in ./.venv/lib/python3.10/site-packages (from pydantic<3,>=1->langchain-core<0.3,>=0.2.2->langchain_upstage) (0.7.0)\n",
      "Requirement already satisfied: pydantic-core==2.20.1 in ./.venv/lib/python3.10/site-packages (from pydantic<3,>=1->langchain-core<0.3,>=0.2.2->langchain_upstage) (2.20.1)\n",
      "Requirement already satisfied: regex>=2022.1.18 in ./.venv/lib/python3.10/site-packages (from tiktoken<1,>=0.7->langchain-openai<0.2.0,>=0.1.3->langchain_upstage) (2024.7.24)\n",
      "Requirement already satisfied: exceptiongroup>=1.0.2 in ./.venv/lib/python3.10/site-packages (from anyio<5,>=3.5.0->openai<2.0.0,>=1.40.0->langchain-openai<0.2.0,>=0.1.3->langchain_upstage) (1.2.2)\n",
      "Requirement already satisfied: httpcore==1.* in ./.venv/lib/python3.10/site-packages (from httpx<1,>=0.23.0->openai<2.0.0,>=1.40.0->langchain-openai<0.2.0,>=0.1.3->langchain_upstage) (1.0.5)\n",
      "Requirement already satisfied: h11<0.15,>=0.13 in ./.venv/lib/python3.10/site-packages (from httpcore==1.*->httpx<1,>=0.23.0->openai<2.0.0,>=1.40.0->langchain-openai<0.2.0,>=0.1.3->langchain_upstage) (0.14.0)\n",
      "Downloading langchain_upstage-0.1.7-py3-none-any.whl (16 kB)\n",
      "Downloading langchain_core-0.2.30-py3-none-any.whl (384 kB)\n",
      "Downloading langchain_openai-0.1.21-py3-none-any.whl (49 kB)\n",
      "Using cached pypdf-4.3.1-py3-none-any.whl (295 kB)\n",
      "Downloading langsmith-0.1.99-py3-none-any.whl (140 kB)\n",
      "Using cached tiktoken-0.7.0-cp310-cp310-macosx_11_0_arm64.whl (906 kB)\n",
      "Using cached orjson-3.10.7-cp310-cp310-macosx_10_15_x86_64.macosx_11_0_arm64.macosx_10_15_universal2.whl (251 kB)\n",
      "Installing collected packages: pypdf, orjson, tiktoken, langsmith, langchain-core, langchain-openai, langchain_upstage\n",
      "  Attempting uninstall: langsmith\n",
      "    Found existing installation: langsmith 0.0.87\n",
      "    Uninstalling langsmith-0.0.87:\n",
      "      Successfully uninstalled langsmith-0.0.87\n",
      "  Attempting uninstall: langchain-core\n",
      "    Found existing installation: langchain-core 0.1.23\n",
      "    Uninstalling langchain-core-0.1.23:\n",
      "      Successfully uninstalled langchain-core-0.1.23\n",
      "\u001b[31mERROR: pip's dependency resolver does not currently take into account all the packages that are installed. This behaviour is the source of the following dependency conflicts.\n",
      "langchain 0.1.1 requires langchain-core<0.2,>=0.1.9, but you have langchain-core 0.2.30 which is incompatible.\n",
      "langchain 0.1.1 requires langsmith<0.1.0,>=0.0.77, but you have langsmith 0.1.99 which is incompatible.\n",
      "langchain-community 0.0.20 requires langchain-core<0.2,>=0.1.21, but you have langchain-core 0.2.30 which is incompatible.\n",
      "langchain-community 0.0.20 requires langsmith<0.1,>=0.0.83, but you have langsmith 0.1.99 which is incompatible.\u001b[0m\u001b[31m\n",
      "\u001b[0mSuccessfully installed langchain-core-0.2.30 langchain-openai-0.1.21 langchain_upstage-0.1.7 langsmith-0.1.99 orjson-3.10.7 pypdf-4.3.1 tiktoken-0.7.0\n"
     ]
    }
   ],
   "source": [
    "!pip install langchain_upstage"
   ]
  },
  {
   "cell_type": "code",
   "execution_count": null,
   "metadata": {},
   "outputs": [],
   "source": [
    "from langchain_upstage import ChatUpstage\n",
    "from langchain.tools import tool\n",
    "import json\n",
    "import os"
   ]
  },
  {
   "cell_type": "code",
   "execution_count": 5,
   "metadata": {},
   "outputs": [
    {
     "name": "stdout",
     "output_type": "stream",
     "text": [
      "content='안녕하세요, 저는 응급구조 요원입니다. 어떤 도움이 필요하신가요?' additional_kwargs={'refusal': None} response_metadata={'token_usage': {'completion_tokens': 18, 'prompt_tokens': 44, 'total_tokens': 62}, 'model_name': 'solar-1-mini-chat-240612', 'system_fingerprint': None, 'finish_reason': 'stop', 'logprobs': None} id='run-25e97698-5924-474b-bebd-2c40f2dfb496-0' usage_metadata={'input_tokens': 44, 'output_tokens': 18, 'total_tokens': 62}\n"
     ]
    }
   ],
   "source": [
    "from langchain_core.messages import HumanMessage, SystemMessage\n",
    "\n",
    "chat = ChatUpstage(api_key=os.getenv(\"UPSTAGE_API_KEY\"))\n",
    "\n",
    "messages = [\n",
    "  SystemMessage(content=\"너는 응급구조 요원으로 전화를 받고 있어. 신고자와 소통하여 최대한 빨리 환자의 응급여부를 판단해줘\"),\n",
    "  HumanMessage(content=\"네 응급구조입니다.\")\n",
    "]\n",
    "response = chat.invoke(messages)\n",
    "print(response)"
   ]
  },
  {
   "cell_type": "code",
   "execution_count": null,
   "metadata": {},
   "outputs": [],
   "source": [
    "class EmergencyResponseModel(ollama.BaseModel):\n",
    "    def __init__(self):\n",
    "        super().__init__()\n",
    "        self.dialogue_history = []\n",
    "        self.tokenizer = ollama.Tokenizer.from_pretrained('skt/kogpt2-base-v2')\n",
    "        self.model = ollama.Model.from_pretrained('skt/kogpt2-base-v2')\n",
    "\n",
    "    def add_turn(self, user_input, model_output):\n",
    "        self.dialogue_history.append({\"user\": user_input, \"model\": model_output})\n",
    "\n",
    "    def get_history(self):\n",
    "        return self.dialogue_history"
   ]
  },
  {
   "cell_type": "code",
   "execution_count": null,
   "metadata": {},
   "outputs": [],
   "source": [
    "def initial_evaluation(user_input):\n",
    "    initial_questions = [\n",
    "        \"어디가 아프신가요?\",\n",
    "        \"언제부터 아프셨나요?\",\n",
    "        \"지금 숨쉬기 괜찮으신가요?\",\n",
    "        \"의식이 있나요?\",\n",
    "        \"출혈이 있습니까?\"\n",
    "    ]\n",
    "    if any(symptom in user_input for symptom in [\"호흡곤란\", \"의식 없음\", \"출혈\", \"심한 통증\"]):\n",
    "        return \"응급\", initial_questions\n",
    "    else:\n",
    "        return \"비응급\", [\"응급 처치 방법을 알려드리겠습니다.\"]\n",
    "    \n",
    "def generate_prompt(context, dialogue_history):\n",
    "    prompt = f\"Context: {context}\\n\"\n",
    "    for turn in dialogue_history:\n",
    "        prompt += f\"User: {turn['user']}\\nModel: {turn['model']}\\n\"\n",
    "    prompt += \"User: \"\n",
    "    return prompt\n",
    "\n",
    "def generate_response(user_input, dialogue_history):\n",
    "    if len(dialogue_history.get_history()) == 0:\n",
    "        urgency, questions = initial_evaluation(user_input)\n",
    "        if urgency == \"응급\":\n",
    "            response = \"응급 상황으로 판단됩니다. 추가 질문을 하겠습니다: \" + \" \".join(questions)\n",
    "        else:\n",
    "            response = \"응급 상황은 아니지만, 응급 처치 방법을 안내해드리겠습니다.\"\n",
    "    else:\n",
    "        context = \"환자는 심각한 상태입니다.\" if \"응급\" in dialogue_history.get_history()[0]['model'] else \"환자는 비응급 상태입니다.\"\n",
    "        prompt = generate_prompt(context, dialogue_history.get_history())\n",
    "        prompt += user_input + \"\\nModel: \"\n",
    "        inputs = tokenizer(prompt, return_tensors=\"pt\")\n",
    "        outputs = model.generate(**inputs, max_length=512, pad_token_id=tokenizer.eos_token_id)\n",
    "        response = tokenizer.decode(outputs[0], skip_special_tokens=True).split(\"Model:\")[-1].strip()\n",
    "    \n",
    "    dialogue_history.add_turn(user_input, response)\n",
    "    return response\n"
   ]
  },
  {
   "cell_type": "code",
   "execution_count": 2,
   "metadata": {},
   "outputs": [
    {
     "name": "stdout",
     "output_type": "stream",
     "text": [
      "Requirement already satisfied: requests in ./.venv/lib/python3.10/site-packages (2.32.3)\n",
      "Collecting beautifulsoup4\n",
      "  Using cached beautifulsoup4-4.12.3-py3-none-any.whl.metadata (3.8 kB)\n",
      "Requirement already satisfied: charset-normalizer<4,>=2 in ./.venv/lib/python3.10/site-packages (from requests) (3.3.2)\n",
      "Requirement already satisfied: idna<4,>=2.5 in ./.venv/lib/python3.10/site-packages (from requests) (3.7)\n",
      "Requirement already satisfied: urllib3<3,>=1.21.1 in ./.venv/lib/python3.10/site-packages (from requests) (2.2.2)\n",
      "Requirement already satisfied: certifi>=2017.4.17 in ./.venv/lib/python3.10/site-packages (from requests) (2024.7.4)\n",
      "Collecting soupsieve>1.2 (from beautifulsoup4)\n",
      "  Downloading soupsieve-2.6-py3-none-any.whl.metadata (4.6 kB)\n",
      "Using cached beautifulsoup4-4.12.3-py3-none-any.whl (147 kB)\n",
      "Downloading soupsieve-2.6-py3-none-any.whl (36 kB)\n",
      "Installing collected packages: soupsieve, beautifulsoup4\n",
      "Successfully installed beautifulsoup4-4.12.3 soupsieve-2.6\n"
     ]
    }
   ],
   "source": [
    "!pip install requests beautifulsoup4"
   ]
  },
  {
   "cell_type": "code",
   "execution_count": 14,
   "metadata": {},
   "outputs": [
    {
     "name": "stdout",
     "output_type": "stream",
     "text": [
      "Content: KTAS란?(korean triage and acuity scale) 1. 정의 KTAS(Korean Triage and Acuity Scale)는 한국형 응급환자 분류도구를 의미하는 영어 줄임말입니다. 2012년 캐나다 응급환자 분류도구인 CTAS(Canadian Triageand Acuity Scale)를 우리나라 의료상황에 맞게 변형하여 KTAS를 개발하였습니다. KTAS는 단순히 응급실에 내원하는 환자의 진료 순서를 정하기 위한 목적 이외에도 병원 전 단계를 아울러서 응급의료체계 전반을 개혁하기 위해 시작되었습니다. 응급환자 중증도 분류(Triage)는 응급실 간호사의 업무 중 가장 전문적인 역할로 의학지식과 판단력을 요구한다. 응급실에서 환자를 분류하고 우선순위에 따라 의료조치를 취하기 위해 사용되는 도구입니다. 원활한 응급의료체계 확립을 위해 보건복지부는 표준화된 한국형 중증도 분류도구(KTAS: Korean Triage and Acuity Scale)를 개발하여 2016년 1월1일부터 전국 응급의료센터에서 시행하고 있습니다. 2. KTAS 자격 KTAS 자격을 취득한 응급의료기관 종사자 중 직종별 통계 상 높은 비율로 간호사가 KTAS를 수행하고 있습니다. KTAS는 [응급의료에 관한 법률 시행규칙 제18조의 제3조 2항, 한국 응급환자 중증도분류기준]에 의거하여 시행주체를 의사, 간호사, 1급 응급구조사의 면허 또는 자격을 갖춘 자로 정의하고 이중 최근 5년 이내의 1년 이상(만 12개월)의 응급실 경험이 있고, KTAS 교육과정을 이수 및 자격을 취득한 자가 시행할 수 있다(보건복지부, 2015; KTAS위원회, 2021). 특히 KTAS 자격을 이수한 응급의료기관 종사자 중 직종별 통계상 간호사의 비율이 91.9%로 평가되었으며 많은 기관에서 응급실 간호사가 직종별 통계 상 높은 비율로 중증도 분류 업무를 담당하고 있는 것이 확인되었으며, 그 외 응급구조사가 5.5%, 의사가 2.6% 로평가한다고 보고되고 있습니다. 3. KTAS 분류의 중요성 응급실은 응급 환자가 도착하여 최초로 진료를 받는 공간으로 응급한 상황 속에서 환자의 생명이 좌우될 수 있으므로 제한된 의료자원으로 환자를 효율적으로 진료하기 위해서는 응급환자의 우선순위를 신속하게 판단하는 것이 중요합니다. 응급실 과밀화 현상을 유발하며 응급실 체류시간을 증가시키고 의료진의 업무를 가중시켜 응급의료 자원을 적시에 적합한 응급 환자에게 활용하지 못하게 될 가능성을 초래할 수 있습니다. 따라서 효율적인 진료 체계를 위해서는 무엇보다 환자의 우선순위를 빠르고 정확하게 결정하는 것이 매우 중요합니다. 응급실 내원 환자와 보호자의 문진을 통해 호소하는 주요 문제를 신속하게 파악하고, 임상적 판단을 내리는 과정은 매우 강조되고 있으며 환자 분류 간호사가 내린 결정에 의해 환자의 응급도가 결정되기 때문에 이는 환자의 예후에 큰 영향을 미칠 수 있으므로 충분한 역량을 갖춘 인력이 환자의 중증도 분류를 시행하는 것이 중요하다고 할 수 있습니다. 4. KTAS 분류 시 주의사항 중증도 분류과정에서 KTAS의 분류 기준이 명시되어 있으나 분류자의 주관적인 판단으로 인해 환자의 본래 증상보다 높게 평가되는 과대평가(Over Triage)와 본래 증상보다 낮게 평가하는 과소평가(Under Triage)가 초래될 수 있습니다. 이는 응급 의료 서비스의 빠른 소진을 초래하고, 적시 치료의 지연으로 인한 환자의 예후의 문제를 초래할 수 있으며 또는 사망에 이르게 할 수 있기에 이에 대한 주의는 지속적으로 강조되고 있습니다. 4,5 등급의 경증 환자로 분류되는 환자들은 초기분류 시 과소평가되어 비 응급으로 분류될 수 있어 중증 분류 단계에서 놓치지 않도록 하는 것이 중요하며 비 응급으로 분류되는 환자들이 초기분류등급이 낮아 적절한 치료를 받지 못하면 잠재적인 문재가 초래될 수 있습니다. 5. KTAS 분류 방법 KTAS는 환자를 평가할 때 증상을 중심으로(symptom-oriented) 분류하는 도구입니다. 환자의 첫 인상을 평가한 후에 감염 여부에 대한 기본적인 문진과 진찰을 시행하고 환자가호소하는 증상에 따라 공통적으로 적용할 수 있는 1차 고려사항과 증상에 따라 특별히 적용해야 할 2차 고려사항으로 환자의 중증, 긴급도를 결정합니다. <한국형 응급환자 분류도구(KTAS)의 중증도 분류단계 결정과정>  ☞ 1단계: 소생 ☞ 2단계: 긴급 ☞ 3단계: 응급 ☞ 4단계: 준응급 ☞ 5단계: 비응급 총 5개의 등급으로 분류되고 있으며, 이는 2개의 등급으로 추가로 구분되어 KTAS 1-3등급을 응급환자, 4-5등급은 비응급환자로 분류하고 있습니다. 1단계: 소생 생명이나 사지를 소실할 정도의 위협이 있어 적극적인 처치를 필요로 하는 상황 입니다. 즉각적인 처치가 필요하며 즉시 의사가 진료합니다. 2단계: 긴급 생명 혹은 사지를 소실할 정도의 잠재적인 위협이 있어 의사 혹은 의료 지시에 따른 빠른 처치가 필요한 상황 입니다. 15분 이내 의사가 진료해야 하며 또는 15분마다 간호사가 재평가를 시행합니다. 3단계: 응급 응급처치가 필요하며 심각한 문제로 진행할 수 있는 잠재적 위험이 있는 상태 입니다. 30분 이내 의사가 진료하고 또는 30분마다 간호사가 재평가를 시행합니다. 4단계: 준응급 환자의 나이, 불편한 정도, 악화될 가능성 등을 고려할 때 한두시간 안에 치료 혹은 재평가를 하면 되는 상태 입니다. 1시간 이내 의사가 진료하고 또는 1시간마다 간호사가 재평가를 시행합니다. 5단계: 비응급 급성 발병이지만 긴급하지 않은 상황이며 악화된 또는 악화되지 않더라도 만성적인 문제의 일부분일 수 있는 상태 입니다. 2시간 이내 의사가 진료하고 또는 2시간마다 간호사가 재평가를 시행합니다.  KTAS 도구의 가이드라인에서 성인과 소아의 분류는 15세 기준으로 나뉘며 주증상은 성인 155가지, 소아의 경우 165가지로 공통적으로 17개의 군으로 분류하고 있습니다. 주 증상 이외에도 의식수준, 생체징후를 기반으로 혈역학적 안정성, 호흡곤란, 체온, 통증사정, 출혈성 질환, 사고기전인 1차 고려사항과 몇몇 제한된 주증상에 특이적으로 1차 고려사항을 보충하는 목적으로 특정 증상에 적용하는 2차 고려사항으로 KTAS 중증도 단계를 결정하고 있습니다.\n",
      "Content has been saved to 'ktas_info.txt'\n"
     ]
    }
   ],
   "source": [
    "import requests\n",
    "from bs4 import BeautifulSoup\n",
    "\n",
    "# URL of the blog page\n",
    "url = 'https://doraemong0808.tistory.com/entry/KTAS%EB%9E%80?category=1141799'\n",
    "\n",
    "# Send a GET request to fetch the HTML content\n",
    "response = requests.get(url)\n",
    "if response.status_code == 200:\n",
    "    html_content = response.content\n",
    "\n",
    "    # Parse the HTML content using BeautifulSoup\n",
    "    soup = BeautifulSoup(html_content, 'html.parser')\n",
    "\n",
    "    # Extract post content\n",
    "    content = soup.find('div', class_='tt_article_useless_p_margin contents_style').text.strip()\n",
    "\n",
    "    # Print the content (optional)\n",
    "    print(f\"Content: {content}\")\n",
    "\n",
    "    # Save the content to a text file\n",
    "    with open('ktas_info.txt', 'w', encoding='utf-8') as file:\n",
    "        file.write(content.replace('☞',' '))\n",
    "\n",
    "\n",
    "    print(\"Content has been saved to 'ktas_info.txt'\")\n",
    "\n",
    "else:\n",
    "    print(f\"Failed to retrieve the page. Status code: {response.status_code}\")\n"
   ]
  },
  {
   "cell_type": "code",
   "execution_count": 13,
   "metadata": {},
   "outputs": [
    {
     "data": {
      "text/plain": [
       "['KTAS란?(korean triage and acuity scale)',\n",
       " '1. 정의',\n",
       " 'KTAS(Korean Triage and Acuity Scale)는 한국형 응급환자 분류도구를 의미하는 영어 줄임말입니다. 2012년 캐나다 응급환자 분류도구인 CTAS(Canadian Triageand Acuity Scale)를 우리나라 의료상황에 맞게 변형하여 KTAS를 개발하였습니다. KTAS는 단순히 응급실에 내원하는 환자의 진료 순서를 정하기 위한 목적 이외에도 병원 전 단계를 아울러서 응급의료체계 전반을 개혁하기 위해 시작되었습니다. 응급환자 중증도 분류(Triage)는 응급실 간호사의 업무 중 가장 전문적인 역할로 의학지식과 판단력을 요구한다. 응급실에서 환자를 분류하고 우선순위에 따라 의료조치를 취하기 위해 사용되는 도구입니다. 원활한 응급의료체계 확립을 위해 보건복지부는 표준화된 한국형 중증도 분류도구(KTAS: Korean Triage and Acuity Scale)를 개발하여 2016년 1월1일부터 전국 응급의료센터에서 시행하고 있습니다.',\n",
       " '2. KTAS 자격',\n",
       " 'KTAS 자격을 취득한 응급의료기관 종사자 중 직종별 통계 상 높은 비율로 간호사가 KTAS를 수행하고 있습니다. KTAS는 [응급의료에 관한 법률 시행규칙 제18조의 제3조 2항, 한국 응급환자 중증도분류기준]에 의거하여 시행주체를 의사, 간호사, 1급 응급구조사의 면허 또는 자격을 갖춘 자로 정의하고 이중 최근 5년 이내의 1년 이상(만 12개월)의 응급실 경험이 있고, KTAS 교육과정을 이수 및 자격을 취득한 자가 시행할 수 있다(보건복지부, 2015; KTAS위원회, 2021). 특히 KTAS 자격을 이수한 응급의료기관 종사자 중 직종별 통계상 간호사의 비율이 91.9%로 평가되었으며 많은 기관에서 응급실 간호사가 직종별 통계 상 높은 비율로 중증도 분류 업무를 담당하고 있는 것이 확인되었으며, 그 외 응급구조사가 5.5%, 의사가 2.6% 로평가한다고 보고되고 있습니다.',\n",
       " '3. KTAS 분류의 중요성',\n",
       " '응급실은 응급 환자가 도착하여 최초로 진료를 받는 공간으로 응급한 상황 속에서 환자의 생명이 좌우될 수 있으므로 제한된 의료자원으로 환자를 효율적으로 진료하기 위해서는 응급환자의 우선순위를 신속하게 판단하는 것이 중요합니다. 응급실 과밀화 현상을 유발하며 응급실 체류시간을 증가시키고 의료진의 업무를 가중시켜 응급의료 자원을 적시에 적합한 응급 환자에게 활용하지 못하게 될 가능성을 초래할 수 있습니다. 따라서 효율적인 진료 체계를 위해서는 무엇보다 환자의 우선순위를 빠르고 정확하게 결정하는 것이 매우 중요합니다. 응급실 내원 환자와 보호자의 문진을 통해 호소하는 주요 문제를 신속하게 파악하고, 임상적 판단을 내리는 과정은 매우 강조되고 있으며 환자 분류 간호사가 내린 결정에 의해 환자의 응급도가 결정되기 때문에 이는 환자의 예후에 큰 영향을 미칠 수 있으므로 충분한 역량을 갖춘 인력이 환자의 중증도 분류를 시행하는 것이 중요하다고 할 수 있습니다.',\n",
       " '4. KTAS 분류 시 주의사항',\n",
       " '중증도 분류과정에서 KTAS의 분류 기준이 명시되어 있으나 분류자의 주관적인 판단으로 인해 환자의 본래 증상보다 높게 평가되는 과대평가(Over Triage)와 본래 증상보다 낮게 평가하는 과소평가(Under Triage)가 초래될 수 있습니다. 이는 응급 의료 서비스의 빠른 소진을 초래하고, 적시 치료의 지연으로 인한 환자의 예후의 문제를 초래할 수 있으며 또는 사망에 이르게 할 수 있기에 이에 대한 주의는 지속적으로 강조되고 있습니다. 4,5 등급의 경증 환자로 분류되는 환자들은 초기분류 시 과소평가되어 비 응급으로 분류될 수 있어 중증 분류 단계에서 놓치지 않도록 하는 것이 중요하며 비 응급으로 분류되는 환자들이 초기분류등급이 낮아 적절한 치료를 받지 못하면 잠재적인 문재가 초래될 수 있습니다.',\n",
       " '5. KTAS 분류 방법',\n",
       " 'KTAS는 환자를 평가할 때 증상을 중심으로(symptom-oriented) 분류하는 도구입니다. 환자의 첫 인상을 평가한 후에 감염 여부에 대한 기본적인 문진과 진찰을 시행하고 환자가호소하는 증상에 따라 공통적으로 적용할 수 있는 1차 고려사항과 증상에 따라 특별히 적용해야 할 2차 고려사항으로 환자의 중증, 긴급도를 결정합니다.',\n",
       " '<한국형 응급환자 분류도구(KTAS)의 중증도 분류단계 결정과정>',\n",
       " '',\n",
       " ' 1단계: 소생',\n",
       " ' 2단계: 긴급',\n",
       " ' 3단계: 응급',\n",
       " ' 4단계: 준응급',\n",
       " ' 5단계: 비응급',\n",
       " '총 5개의 등급으로 분류되고 있으며, 이는 2개의 등급으로 추가로 구분되어 KTAS 1-3등급을 응급환자, 4-5등급은 비응급환자로 분류하고 있습니다.',\n",
       " '1단계: 소생',\n",
       " '생명이나 사지를 소실할 정도의 위협이 있어 적극적인 처치를 필요로 하는 상황 입니다. 즉각적인 처치가 필요하며 즉시 의사가 진료합니다.',\n",
       " '2단계: 긴급',\n",
       " '생명 혹은 사지를 소실할 정도의 잠재적인 위협이 있어 의사 혹은 의료 지시에 따른 빠른 처치가 필요한 상황 입니다. 15분 이내 의사가 진료해야 하며 또는 15분마다 간호사가 재평가를 시행합니다.',\n",
       " '3단계: 응급',\n",
       " '응급처치가 필요하며 심각한 문제로 진행할 수 있는 잠재적 위험이 있는 상태 입니다. 30분 이내 의사가 진료하고 또는 30분마다 간호사가 재평가를 시행합니다.',\n",
       " '4단계: 준응급',\n",
       " '환자의 나이, 불편한 정도, 악화될 가능성 등을 고려할 때 한두시간 안에 치료 혹은 재평가를 하면 되는 상태 입니다. 1시간 이내 의사가 진료하고 또는 1시간마다 간호사가 재평가를 시행합니다.',\n",
       " '5단계: 비응급',\n",
       " '급성 발병이지만 긴급하지 않은 상황이며 악화된 또는 악화되지 않더라도 만성적인 문제의 일부분일 수 있는 상태 입니다. 2시간 이내 의사가 진료하고 또는 2시간마다 간호사가 재평가를 시행합니다.',\n",
       " '',\n",
       " 'KTAS 도구의 가이드라인에서 성인과 소아의 분류는 15세 기준으로 나뉘며 주증상은 성인 155가지, 소아의 경우 165가지로 공통적으로 17개의 군으로 분류하고 있습니다. 주 증상 이외에도 의식수준, 생체징후를 기반으로 혈역학적 안정성, 호흡곤란, 체온, 통증사정, 출혈성 질환, 사고기전인 1차 고려사항과 몇몇 제한된 주증상에 특이적으로 1차 고려사항을 보충하는 목적으로 특정 증상에 적용하는 2차 고려사항으로 KTAS 중증도 단계를 결정하고 있습니다.']"
      ]
     },
     "execution_count": 13,
     "metadata": {},
     "output_type": "execute_result"
    }
   ],
   "source": [
    "content.replace('☞','').split(u'\\xa0')"
   ]
  },
  {
   "cell_type": "code",
   "execution_count": null,
   "metadata": {},
   "outputs": [],
   "source": []
  }
 ],
 "metadata": {
  "kernelspec": {
   "display_name": ".venv",
   "language": "python",
   "name": "python3"
  },
  "language_info": {
   "codemirror_mode": {
    "name": "ipython",
    "version": 3
   },
   "file_extension": ".py",
   "mimetype": "text/x-python",
   "name": "python",
   "nbconvert_exporter": "python",
   "pygments_lexer": "ipython3",
   "version": "3.10.14"
  }
 },
 "nbformat": 4,
 "nbformat_minor": 2
}
